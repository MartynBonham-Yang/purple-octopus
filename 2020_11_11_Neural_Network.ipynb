{
  "nbformat": 4,
  "nbformat_minor": 0,
  "metadata": {
    "colab": {
      "name": "2020-11-11 Neural Network",
      "provenance": [],
      "mount_file_id": "1E1RNjcgyLE_iuUuSRO7kbn8J2q0LHuwB",
      "authorship_tag": "ABX9TyM5teW2LlFUXjMGjMZsf/km",
      "include_colab_link": true
    },
    "kernelspec": {
      "name": "python3",
      "display_name": "Python 3"
    }
  },
  "cells": [
    {
      "cell_type": "markdown",
      "metadata": {
        "id": "view-in-github",
        "colab_type": "text"
      },
      "source": [
        "<a href=\"https://colab.research.google.com/github/MartynBonham-Yang/purple-octopus/blob/master/2020_11_11_Neural_Network.ipynb\" target=\"_parent\"><img src=\"https://colab.research.google.com/assets/colab-badge.svg\" alt=\"Open In Colab\"/></a>"
      ]
    },
    {
      "cell_type": "code",
      "metadata": {
        "id": "87rmOzjxh1qN"
      },
      "source": [
        "import numpy as np \n",
        "import pandas as pd "
      ],
      "execution_count": 34,
      "outputs": []
    },
    {
      "cell_type": "code",
      "metadata": {
        "id": "58EOZOgLioMS"
      },
      "source": [
        "# Add mount Drive code here ?"
      ],
      "execution_count": 35,
      "outputs": []
    },
    {
      "cell_type": "code",
      "metadata": {
        "id": "6lnITuocs3cf"
      },
      "source": [
        "admissions = pd.read_csv('/content/drive/My Drive/Document.csv')"
      ],
      "execution_count": 36,
      "outputs": []
    },
    {
      "cell_type": "code",
      "metadata": {
        "id": "bllJVYb9s-jY"
      },
      "source": [
        "#Make dummy variables for ranks\n",
        "data = pd.concat([admissions, pd.get_dummies(admissions['rank'], prefix = 'rank')], axis = 1)\n",
        "data = data.drop('rank', axis = 1)"
      ],
      "execution_count": 37,
      "outputs": []
    },
    {
      "cell_type": "code",
      "metadata": {
        "id": "o59bZBOntMc5"
      },
      "source": [
        "#Standardise features\n",
        "for t in ['gre','gpa']:\n",
        "  mean, st_dev = data[t].mean(), data[t].std()\n",
        "  data.loc[:,t] = (data[t] - mean)/st_dev"
      ],
      "execution_count": 38,
      "outputs": []
    },
    {
      "cell_type": "code",
      "metadata": {
        "id": "lAW9Jcf5tsIP"
      },
      "source": [
        "#Testing set\n",
        "np.random.seed(20122102)\n",
        "test = np.random.choice(data.index, size = int(len(data)*0.9), replace = False)\n",
        "data, test_data = data.loc[test], data.drop(test)"
      ],
      "execution_count": 39,
      "outputs": []
    },
    {
      "cell_type": "code",
      "metadata": {
        "id": "MFNj3BrpuCsZ"
      },
      "source": [
        "#Features & prediction targets\n",
        "X, Y = data.drop('admit', axis = 1), data['admit']\n",
        "X_test, Y_test = test_data.drop('admit', axis = 1), test_data['admit']"
      ],
      "execution_count": 40,
      "outputs": []
    },
    {
      "cell_type": "code",
      "metadata": {
        "id": "6_M5Us9Cvh2k"
      },
      "source": [
        "#Define sigmoid activation function\n",
        "#Remember sigmoid' = sigmoid(1-sigmoid)\n",
        "def sigmoid(x):\n",
        "  return 1/(1+np.exp(-x))"
      ],
      "execution_count": 41,
      "outputs": []
    },
    {
      "cell_type": "code",
      "metadata": {
        "id": "o0YLN8yNqN5z"
      },
      "source": [
        "#Define shape variables\n",
        "n_records,n_features = X.shape\n",
        "last_loss = None"
      ],
      "execution_count": 42,
      "outputs": []
    },
    {
      "cell_type": "code",
      "metadata": {
        "id": "wYe3C8TsvjGZ"
      },
      "source": [
        "#Initialise weights\n",
        "weights = np.random.normal(scale=1/n_features**0.5, size = n_features)\n"
      ],
      "execution_count": 43,
      "outputs": []
    },
    {
      "cell_type": "code",
      "metadata": {
        "id": "aGZwiHKVsAWx"
      },
      "source": [
        "#Define neural network hyperparameters\n",
        "epochs = 1000\n",
        "learnrate = 0.15"
      ],
      "execution_count": 44,
      "outputs": []
    },
    {
      "cell_type": "code",
      "metadata": {
        "id": "JjgTk1bAsKWb",
        "outputId": "984f1627-b3a5-43de-f3f8-f4f41b5eb5ec",
        "colab": {
          "base_uri": "https://localhost:8080/"
        }
      },
      "source": [
        "#Spin up model\n",
        "for e in range(epochs):\n",
        "  del_w = np.zeros(weights.shape)   #Start with del_weights as 0\n",
        "\n",
        "  for x, y in zip(X.values, Y):\n",
        "    #Loop through all records. x is the input and y is the target for that x\n",
        "    \n",
        "    output = sigmoid(np.dot(x, weights)) #Define the output as activation function applied to sum of x multiplied by weights\n",
        "\n",
        "    error = y - output #Error of this output\n",
        "\n",
        "    error_term = error * output * (1-output) #The error term is defined as error*sigmoid'(x)\n",
        "\n",
        "    del_w += error_term * x #The change in weights is updated for this sample\n",
        "\n",
        "  \n",
        "  #Update the weights using the learnrate and average del_w\n",
        "  weights += (learnrate * del_w) / n_features\n",
        "\n",
        "  #Mean squared error on training set (checks every tenth epoch): \n",
        "  if e % (epochs/10) == 0:\n",
        "    out = sigmoid(np.dot(X, weights))\n",
        "    l = np.mean((out-Y) ** 2)\n",
        "    if last_loss and last_loss < l: #Checking if last_loss has been updated and if so if it is lower than current loss\n",
        "      print('Training loss: ', l, ' WARNING: LOSS INCREASING')\n",
        "    else:\n",
        "      print('Training loss: ', l)\n",
        "    last_loss = l\n"
      ],
      "execution_count": 45,
      "outputs": [
        {
          "output_type": "stream",
          "text": [
            "Training loss:  0.22708528170284212\n",
            "Training loss:  0.19354219177739257\n",
            "Training loss:  0.1935394130121607\n",
            "Training loss:  0.19353940671673842\n",
            "Training loss:  0.1935394067015391\n",
            "Training loss:  0.1935394067015024\n",
            "Training loss:  0.19353940670150255  WARNING: LOSS INCREASING\n",
            "Training loss:  0.19353940670150227\n",
            "Training loss:  0.1935394067015024  WARNING: LOSS INCREASING\n",
            "Training loss:  0.1935394067015024\n"
          ],
          "name": "stdout"
        }
      ]
    },
    {
      "cell_type": "code",
      "metadata": {
        "id": "noMFHJMhui5w",
        "outputId": "80359d68-2669-4099-cd42-c8e2954a2f4f",
        "colab": {
          "base_uri": "https://localhost:8080/"
        }
      },
      "source": [
        "#Check accuracy on test data\n",
        "test_out = sigmoid(np.dot(X_test, weights))\n",
        "preds = test_out > 0.5\n",
        "accuracy = np.mean(preds == Y_test)\n",
        "print('Prediction accuracy: {:.3f}'.format(accuracy))"
      ],
      "execution_count": 46,
      "outputs": [
        {
          "output_type": "stream",
          "text": [
            "Prediction accuracy: 0.725\n"
          ],
          "name": "stdout"
        }
      ]
    },
    {
      "cell_type": "code",
      "metadata": {
        "id": "4O7SROgovRmo"
      },
      "source": [
        ""
      ],
      "execution_count": 46,
      "outputs": []
    }
  ]
}